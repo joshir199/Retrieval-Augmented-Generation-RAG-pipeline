{
  "nbformat": 4,
  "nbformat_minor": 0,
  "metadata": {
    "colab": {
      "provenance": []
    },
    "kernelspec": {
      "name": "python3",
      "display_name": "Python 3"
    },
    "language_info": {
      "name": "python"
    }
  },
  "cells": [
    {
      "cell_type": "code",
      "execution_count": null,
      "metadata": {
        "id": "KAWaV-Xh0bS3"
      },
      "outputs": [],
      "source": []
    },
    {
      "cell_type": "markdown",
      "source": [
        "# **LLM agents**\n",
        "Agentic pipeline for LLM adds additional properties to \"Reason and take Action\" as per feedback loop.\n",
        "\n",
        "\n",
        "        ![agents_with_tools.png](data:image/png;base64,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)"
      ],
      "metadata": {
        "id": "Hf-Q-XIz0nkA"
      }
    },
    {
      "cell_type": "code",
      "source": [
        "!pip install -r requirements.txt"
      ],
      "metadata": {
        "id": "U3Xqocbk1S6Q"
      },
      "execution_count": null,
      "outputs": []
    },
    {
      "cell_type": "code",
      "source": [
        "from dotenv import load_dotenv\n",
        "from langchain import hub\n",
        "from langchain.agents import (AgentExecutor, create_react_agent)\n",
        "from langchain_core.tools import Tool\n",
        "from langchain_openai import ChatOpenAI"
      ],
      "metadata": {
        "id": "C367GLjEcFId"
      },
      "execution_count": 11,
      "outputs": []
    },
    {
      "cell_type": "code",
      "source": [
        "# Start building pipelines be intiating the model\n",
        "\n",
        "# load enviroment variables and API_KEYs\n",
        "load_dotenv()\n",
        "\n",
        "# create tool function\n",
        "def get_current_time() -> str:\n",
        "    \"\"\"Get the current time in proper format.\"\"\"\n",
        "    import datetime\n",
        "    return datetime.datetime.now().strftime(\"%I:%M:%S %p\")"
      ],
      "metadata": {
        "id": "OH-soBqVc2Q_"
      },
      "execution_count": 12,
      "outputs": []
    },
    {
      "cell_type": "code",
      "source": [
        "# assemble all the created tools\n",
        "\n",
        "first_tools = [\n",
        "    Tool(\n",
        "        name=\"Current_Time\",\n",
        "        func=get_current_time, # tool function\n",
        "        description=\"Get the current time in proper format.\"\n",
        "    )\n",
        "]\n",
        "\n",
        "# Getting current time is out of scope for any LLMs because it is only trained on\n",
        "# older data. Thus we need to add this tools which will help LLMs to access these data."
      ],
      "metadata": {
        "id": "wRzVL2ofdO-h"
      },
      "execution_count": 13,
      "outputs": []
    },
    {
      "cell_type": "code",
      "source": [
        "# Getting ReAct pronpt template from\n",
        "# github: https://github.com/hwchase17/langchain-hub\n",
        "# This template will teach LLM, how to act and reason in recurssive way\n",
        "prompt = hub.pull(\"hwchase17/react\")\n",
        "\n",
        "\n",
        "# Initialize chatmodel\n",
        "chatmodel = ChatOpenAI(model=\"gpt-4o\")\n",
        "\n",
        "# Initialize react agent\n",
        "react_agent = create_react_agent(\n",
        "    llm=chatmodel,\n",
        "    tools=first_tools,\n",
        "    prompt=prompt,\n",
        "    stop_sequence=True\n",
        ")"
      ],
      "metadata": {
        "id": "wzrgHiuqd40X"
      },
      "execution_count": null,
      "outputs": []
    },
    {
      "cell_type": "code",
      "source": [
        "# Creating the agent Executor to execute the agent\n",
        "agent_executor= AgentExecutor.from_agent_and_tools(\n",
        "    agent=react_agent,\n",
        "    tools=first_tools,\n",
        "    verbose=True\n",
        ")\n",
        "\n",
        "# executing and querying the prompt\n",
        "\n",
        "react_answer = agent_executor.invoke({\"input\":\"What is the current time now?\"})\n",
        "\n",
        "print(\"answer: \", react_answer)\n"
      ],
      "metadata": {
        "id": "65CqnQA-fcuw"
      },
      "execution_count": null,
      "outputs": []
    },
    {
      "cell_type": "markdown",
      "source": [
        "# Building Agents with multiple tools\n",
        "\n",
        "There can various scenarios where we may need multiple tools to execute the \"reAct\" tasks."
      ],
      "metadata": {
        "id": "HlaYQ47whBmy"
      }
    },
    {
      "cell_type": "code",
      "source": [
        "# Apart from above tools, We will have other tools which will retrieve data from\n",
        "# other sources like Web based source\n",
        "\n",
        "from langchain_openai import ChatOpenAI\n",
        "from langchain import chains, vectorstores\n",
        "from langchain.text_splitter import CharacterTextSplitter\n",
        "from langchain_community.document_loaders import PyPDFLoader, WebBaseLoader\n",
        "import os\n",
        "import PyPDF2\n",
        "import pypdf\n",
        "import re\n",
        "from langchain.embeddings import HuggingFaceEmbeddings"
      ],
      "metadata": {
        "colab": {
          "base_uri": "https://localhost:8080/"
        },
        "id": "-P4SKzHQhXCf",
        "outputId": "235a0e43-59b2-450b-cc82-178dd4991161"
      },
      "execution_count": 15,
      "outputs": [
        {
          "output_type": "stream",
          "name": "stderr",
          "text": [
            "WARNING:langchain_community.utils.user_agent:USER_AGENT environment variable not set, consider setting it to identify your requests.\n"
          ]
        }
      ]
    },
    {
      "cell_type": "code",
      "source": [
        "# Start building Retriever pipelines be intiating the model\n",
        "\n",
        "# load enviroment variables and API_KEYs\n",
        "load_dotenv()\n",
        "\n",
        "\n",
        "# instantiate Embeddings\n",
        "def init_embeddings():\n",
        "  embeddings = HuggingFaceEmbeddings(model_name=\"sentence-transformers/all-mpnet-base-v2\")\n",
        "  return embeddings\n",
        "\n",
        "# load the pdf documents and load its contents for further processing\n",
        "def load_pdf_document(pdfPath):\n",
        "  pdf_document = PyPDFLoader(pdfPath)\n",
        "  documents = pdf_document.load()\n",
        "  return documents\n",
        "\n",
        "# split the documents into multiple chunks(of size 1000 tokens) for indexing\n",
        "def split_pdf_documents(documents):\n",
        "  doc_splitter = CharacterTextSplitter(chunk_size=1000, chunk_overlap=0)\n",
        "  docs = doc_splitter.split_documents(documents)\n",
        "  return docs\n",
        "\n",
        "def create_vectorDB_store(textdocs, embeddingFun):\n",
        "  vectorDB = vectorstores.Chroma.from_documents(textdocs, embeddingFun)\n",
        "  return vectorDB\n",
        "\n",
        "def get_retrieved_docs(n_documents, stored_VectorDB):\n",
        "  retrieved_docs = stored_VectorDB.as_retriever(search_type=\"similarity\", search_kwargs={\"k\":n_documents})\n",
        "  return retrieved_docs"
      ],
      "metadata": {
        "id": "Alr1FTZnhyLf"
      },
      "execution_count": 19,
      "outputs": []
    },
    {
      "cell_type": "code",
      "source": [
        "loaded_docs = load_pdf_document(\"/content/sell_my_dream.pdf\")\n",
        "textdocs = split_pdf_documents(loaded_docs)\n",
        "print(\"chunk size: \", len(textdocs))\n",
        "vectordb = create_vectorDB_store(textdocs, embeddingFun=init_embeddings())\n",
        "retrievers = get_retrieved_docs(3, vectordb)"
      ],
      "metadata": {
        "id": "cWQRs-zeh7Ya"
      },
      "execution_count": null,
      "outputs": []
    },
    {
      "cell_type": "code",
      "source": [
        "# creating retriever tool\n",
        "from langchain.tools.retriever import create_retriever_tool\n",
        "\n",
        "retriever_tool = create_retriever_tool(\n",
        "    retrievers,\n",
        "    \"document_search\",\n",
        "    \"Search for relevant information about PDF document using this tool!\",\n",
        ")"
      ],
      "metadata": {
        "id": "dzMf4p4kiLLA"
      },
      "execution_count": 21,
      "outputs": []
    },
    {
      "cell_type": "code",
      "source": [
        "# combining multiple tools togther\n",
        "\n",
        "tools = [first_tools, retriever_tool]"
      ],
      "metadata": {
        "id": "soifUXLEio0a"
      },
      "execution_count": 22,
      "outputs": []
    },
    {
      "cell_type": "code",
      "source": [
        "# Getting new Pronpt template for multi-tools\n",
        "prompt = hub.pull(\"hwchase17/openai-functions-agent\")\n",
        "prompt.messages"
      ],
      "metadata": {
        "colab": {
          "base_uri": "https://localhost:8080/"
        },
        "id": "eQqkUJFUi6wt",
        "outputId": "0a7440ec-2bfe-4b2d-92c3-d91757ff2261"
      },
      "execution_count": 23,
      "outputs": [
        {
          "output_type": "execute_result",
          "data": {
            "text/plain": [
              "[SystemMessagePromptTemplate(prompt=PromptTemplate(input_variables=[], template='You are a helpful assistant')),\n",
              " MessagesPlaceholder(variable_name='chat_history', optional=True),\n",
              " HumanMessagePromptTemplate(prompt=PromptTemplate(input_variables=['input'], template='{input}')),\n",
              " MessagesPlaceholder(variable_name='agent_scratchpad')]"
            ]
          },
          "metadata": {},
          "execution_count": 23
        }
      ]
    },
    {
      "cell_type": "code",
      "source": [
        "# Create and initialize tool calling agents\n",
        "from langchain.agents import create_tool_calling_agent\n",
        "\n",
        "mulitToolAgent = create_tool_calling_agent(chatmodel, tools, prompt)"
      ],
      "metadata": {
        "id": "5ofecjXfjFOy"
      },
      "execution_count": null,
      "outputs": []
    },
    {
      "cell_type": "code",
      "source": [
        "multiAgentExecutor = AgentExecutor.from_agent_and_tools(\n",
        "    agent=mulitToolAgent,\n",
        "    tools=tools,\n",
        "    verbose=True\n",
        ")"
      ],
      "metadata": {
        "id": "0_NFdfQojYVK"
      },
      "execution_count": null,
      "outputs": []
    },
    {
      "cell_type": "code",
      "source": [
        "# executing and querying the prompt on multi-tools agent\n",
        "\n",
        "react_answer1 = multiAgentExecutor.invoke({\"input\":\"What is the current time now?\"})\n",
        "\n",
        "print(\"answer: \", react_answer1)"
      ],
      "metadata": {
        "id": "v0-ullLkjswo"
      },
      "execution_count": null,
      "outputs": []
    },
    {
      "cell_type": "code",
      "source": [
        "# We can also add Chat history to provide extra context\n",
        "from langchain_core.messages import AIMessage, HumanMessage\n",
        "react_answer2 = multiAgentExecutor.invoke({\"input\":\"What is the tomorrow date?\",\n",
        "                                           \"chat_history\":[\n",
        "                                               HumanMessage(content=\"What is the current time now?\"),\n",
        "                                               AIMessage(content=\"Hello ! How can I assist you today?\"),\n",
        "                                           ]})\n"
      ],
      "metadata": {
        "id": "b_ihOqY8j8U3"
      },
      "execution_count": null,
      "outputs": []
    }
  ]
}